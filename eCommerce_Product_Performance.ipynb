{
 "cells": [
  {
   "cell_type": "markdown",
   "id": "87cb7da4",
   "metadata": {},
   "source": [
    "# E-Commerce Product Performance Dashboard & Analysis\n",
    "\n",
    "---"
   ]
  },
  {
   "cell_type": "markdown",
   "id": "e02dde01",
   "metadata": {},
   "source": [
    "## 🔖 Objective\n",
    "- Analyzed a synthetic e-commerce dataset focusing on price, ratings, returns, and delivery \n",
    "trends.\n",
    "- The goal is to understand sales patterns, top products, and customer preferences through simple analysis and visualizations.\n",
    "- Cleaned and preprocessed data, handled missing values (~5%), and performed exploratory data analysis \n",
    "using Python.\n",
    "- Created interactive dashboards in Power BI/Tableau to visualize product performance and category-wise \n",
    "insights. \n",
    "- Delivered key business insights to optimize pricing, reduce return rates, and improve stock and delivery \n",
    "planning."
   ]
  },
  {
   "cell_type": "markdown",
   "id": "a74f15a6",
   "metadata": {},
   "source": [
    "## 💡 Dataset\n",
    "- I’m using a dataset from Kaggle.\n",
    "- **Source**: [E-Commerce Product Performance Dataset](https://www.kaggle.com/datasets/efeyldz/e-commerce-product-performance-dataset)\n",
    "### Data Fields:\n",
    "-  Product_Price: The listed price of the product in USD (range: 5 to 1000).\n",
    "-  Discount_Rate: Discount rate applied to the product (0.0 to 0.8).\n",
    "-  Product_Rating: Customer rating on a scale from 1 to 5.\n",
    "-  Number_of_Reviews: Total number of user reviews (0 to 5000, highly skewed).\n",
    "-  Stock_Availability: Product availability in stock (1 = available, 0 = out of stock).\n",
    "-  Days_to_Deliver: Number of days it takes to deliver the product (1 to 30).\n",
    "-  Return_Rate: Proportion of items returned after purchase (0.0 to 0.9).\n",
    "-  Category_ID: ID of the product category (integer from 1 to 10)."
   ]
  },
  {
   "cell_type": "markdown",
   "id": "5828105b",
   "metadata": {},
   "source": [
    "## 📈 Tools & Technologies\n",
    "- Python: For coding\n",
    "- Pandas: To work with data tables\n",
    "- NumPy\n",
    "- Matplotlib & Seaborn: For creating plots\n",
    "- Plotly: For interactive charts"
   ]
  },
  {
   "cell_type": "markdown",
   "id": "0f31d4e9",
   "metadata": {},
   "source": [
    "## 💡 Key Questions\n",
    "- Which products generate the most profit?\n",
    "- Is there a correlation between views, cart adds, and purchases?\n",
    "- Which products have the highest conversion rates?\n",
    "- What categories perform best in terms of revenue and profit?"
   ]
  },
  {
   "cell_type": "markdown",
   "id": "24dcc91f",
   "metadata": {},
   "source": [
    "## 📊 Data Exploration & Cleaning"
   ]
  },
  {
   "cell_type": "markdown",
   "id": "70f47a27",
   "metadata": {},
   "source": [
    "### Import importmant Libraries"
   ]
  },
  {
   "cell_type": "code",
   "execution_count": 1,
   "id": "7c99c734",
   "metadata": {},
   "outputs": [],
   "source": [
    "#import Libraries\n",
    "import pandas as pd\n",
    "import numpy as np\n",
    "import matplotlib.pyplot as plt\n",
    "import seaborn as sns\n",
    "import warnings\n",
    "warnings.filterwarnings(\"ignore\")"
   ]
  },
  {
   "cell_type": "markdown",
   "id": "c1bfe4b2",
   "metadata": {},
   "source": [
    "### Load & inspect the DataSet"
   ]
  },
  {
   "cell_type": "code",
   "execution_count": 2,
   "id": "3d20899b",
   "metadata": {},
   "outputs": [],
   "source": [
    "#read the dataset\n",
    "df = pd.read_csv(\".\\ecommerce_product_data.csv\")"
   ]
  },
  {
   "cell_type": "code",
   "execution_count": 3,
   "id": "68821fd0",
   "metadata": {},
   "outputs": [
    {
     "name": "stdout",
     "output_type": "stream",
     "text": [
      "First 5 rows of the data:\n"
     ]
    },
    {
     "data": {
      "text/html": [
       "<div>\n",
       "<style scoped>\n",
       "    .dataframe tbody tr th:only-of-type {\n",
       "        vertical-align: middle;\n",
       "    }\n",
       "\n",
       "    .dataframe tbody tr th {\n",
       "        vertical-align: top;\n",
       "    }\n",
       "\n",
       "    .dataframe thead th {\n",
       "        text-align: right;\n",
       "    }\n",
       "</style>\n",
       "<table border=\"1\" class=\"dataframe\">\n",
       "  <thead>\n",
       "    <tr style=\"text-align: right;\">\n",
       "      <th></th>\n",
       "      <th>Product_Price</th>\n",
       "      <th>Discount_Rate</th>\n",
       "      <th>Product_Rating</th>\n",
       "      <th>Number_of_Reviews</th>\n",
       "      <th>Stock_Availability</th>\n",
       "      <th>Days_to_Deliver</th>\n",
       "      <th>Return_Rate</th>\n",
       "      <th>Category_ID</th>\n",
       "    </tr>\n",
       "  </thead>\n",
       "  <tbody>\n",
       "    <tr>\n",
       "      <th>0</th>\n",
       "      <td>199.671415</td>\n",
       "      <td>0.177024</td>\n",
       "      <td>4.411071</td>\n",
       "      <td>62.0</td>\n",
       "      <td>1.0</td>\n",
       "      <td>9.0</td>\n",
       "      <td>0.185116</td>\n",
       "      <td>5.0</td>\n",
       "    </tr>\n",
       "    <tr>\n",
       "      <th>1</th>\n",
       "      <td>136.173570</td>\n",
       "      <td>0.041467</td>\n",
       "      <td>3.033534</td>\n",
       "      <td>201.0</td>\n",
       "      <td>1.0</td>\n",
       "      <td>3.0</td>\n",
       "      <td>0.384639</td>\n",
       "      <td>10.0</td>\n",
       "    </tr>\n",
       "    <tr>\n",
       "      <th>2</th>\n",
       "      <td>214.768854</td>\n",
       "      <td>0.276197</td>\n",
       "      <td>2.866881</td>\n",
       "      <td>479.0</td>\n",
       "      <td>1.0</td>\n",
       "      <td>19.0</td>\n",
       "      <td>0.056410</td>\n",
       "      <td>4.0</td>\n",
       "    </tr>\n",
       "    <tr>\n",
       "      <th>3</th>\n",
       "      <td>302.302986</td>\n",
       "      <td>0.094254</td>\n",
       "      <td>4.473473</td>\n",
       "      <td>252.0</td>\n",
       "      <td>1.0</td>\n",
       "      <td>11.0</td>\n",
       "      <td>NaN</td>\n",
       "      <td>7.0</td>\n",
       "    </tr>\n",
       "    <tr>\n",
       "      <th>4</th>\n",
       "      <td>126.584663</td>\n",
       "      <td>0.411845</td>\n",
       "      <td>3.553082</td>\n",
       "      <td>671.0</td>\n",
       "      <td>1.0</td>\n",
       "      <td>14.0</td>\n",
       "      <td>0.672163</td>\n",
       "      <td>6.0</td>\n",
       "    </tr>\n",
       "  </tbody>\n",
       "</table>\n",
       "</div>"
      ],
      "text/plain": [
       "   Product_Price  Discount_Rate  Product_Rating  Number_of_Reviews  \\\n",
       "0     199.671415       0.177024        4.411071               62.0   \n",
       "1     136.173570       0.041467        3.033534              201.0   \n",
       "2     214.768854       0.276197        2.866881              479.0   \n",
       "3     302.302986       0.094254        4.473473              252.0   \n",
       "4     126.584663       0.411845        3.553082              671.0   \n",
       "\n",
       "   Stock_Availability  Days_to_Deliver  Return_Rate  Category_ID  \n",
       "0                 1.0              9.0     0.185116          5.0  \n",
       "1                 1.0              3.0     0.384639         10.0  \n",
       "2                 1.0             19.0     0.056410          4.0  \n",
       "3                 1.0             11.0          NaN          7.0  \n",
       "4                 1.0             14.0     0.672163          6.0  "
      ]
     },
     "execution_count": 3,
     "metadata": {},
     "output_type": "execute_result"
    }
   ],
   "source": [
    "#Show the first 5 rows of the dataset\n",
    "print(\"First 5 rows of the data:\")\n",
    "df.head()"
   ]
  },
  {
   "cell_type": "code",
   "execution_count": 4,
   "id": "49434645",
   "metadata": {},
   "outputs": [
    {
     "name": "stdout",
     "output_type": "stream",
     "text": [
      "Shape of the dataset:\n"
     ]
    },
    {
     "data": {
      "text/plain": [
       "(2000, 8)"
      ]
     },
     "execution_count": 4,
     "metadata": {},
     "output_type": "execute_result"
    }
   ],
   "source": [
    "#Show the shape of the dataset\n",
    "print(\"Shape of the dataset:\")\n",
    "df.shape"
   ]
  },
  {
   "cell_type": "code",
   "execution_count": 5,
   "id": "349069a2",
   "metadata": {},
   "outputs": [
    {
     "name": "stdout",
     "output_type": "stream",
     "text": [
      "Basic information about the dataset:\n",
      "<class 'pandas.core.frame.DataFrame'>\n",
      "RangeIndex: 2000 entries, 0 to 1999\n",
      "Data columns (total 8 columns):\n",
      " #   Column              Non-Null Count  Dtype  \n",
      "---  ------              --------------  -----  \n",
      " 0   Product_Price       1900 non-null   float64\n",
      " 1   Discount_Rate       1900 non-null   float64\n",
      " 2   Product_Rating      1900 non-null   float64\n",
      " 3   Number_of_Reviews   1900 non-null   float64\n",
      " 4   Stock_Availability  1900 non-null   float64\n",
      " 5   Days_to_Deliver     1900 non-null   float64\n",
      " 6   Return_Rate         1900 non-null   float64\n",
      " 7   Category_ID         1900 non-null   float64\n",
      "dtypes: float64(8)\n",
      "memory usage: 125.1 KB\n"
     ]
    }
   ],
   "source": [
    "#Show basic information about the dataset\n",
    "print(\"Basic information about the dataset:\")\n",
    "df.info()"
   ]
  },
  {
   "cell_type": "code",
   "execution_count": 6,
   "id": "3b071907",
   "metadata": {},
   "outputs": [
    {
     "name": "stdout",
     "output_type": "stream",
     "text": [
      "Summary statistics of the dataset:\n"
     ]
    },
    {
     "data": {
      "text/html": [
       "<div>\n",
       "<style scoped>\n",
       "    .dataframe tbody tr th:only-of-type {\n",
       "        vertical-align: middle;\n",
       "    }\n",
       "\n",
       "    .dataframe tbody tr th {\n",
       "        vertical-align: top;\n",
       "    }\n",
       "\n",
       "    .dataframe thead th {\n",
       "        text-align: right;\n",
       "    }\n",
       "</style>\n",
       "<table border=\"1\" class=\"dataframe\">\n",
       "  <thead>\n",
       "    <tr style=\"text-align: right;\">\n",
       "      <th></th>\n",
       "      <th>Product_Price</th>\n",
       "      <th>Discount_Rate</th>\n",
       "      <th>Product_Rating</th>\n",
       "      <th>Number_of_Reviews</th>\n",
       "      <th>Stock_Availability</th>\n",
       "      <th>Days_to_Deliver</th>\n",
       "      <th>Return_Rate</th>\n",
       "      <th>Category_ID</th>\n",
       "    </tr>\n",
       "  </thead>\n",
       "  <tbody>\n",
       "    <tr>\n",
       "      <th>count</th>\n",
       "      <td>1900.000000</td>\n",
       "      <td>1900.000000</td>\n",
       "      <td>1900.000000</td>\n",
       "      <td>1900.000000</td>\n",
       "      <td>1900.000000</td>\n",
       "      <td>1900.000000</td>\n",
       "      <td>1900.000000</td>\n",
       "      <td>1900.000000</td>\n",
       "    </tr>\n",
       "    <tr>\n",
       "      <th>mean</th>\n",
       "      <td>156.774274</td>\n",
       "      <td>0.286993</td>\n",
       "      <td>3.729987</td>\n",
       "      <td>304.318421</td>\n",
       "      <td>0.903158</td>\n",
       "      <td>15.411579</td>\n",
       "      <td>0.328904</td>\n",
       "      <td>5.572105</td>\n",
       "    </tr>\n",
       "    <tr>\n",
       "      <th>std</th>\n",
       "      <td>93.484558</td>\n",
       "      <td>0.159012</td>\n",
       "      <td>0.885164</td>\n",
       "      <td>310.344539</td>\n",
       "      <td>0.295821</td>\n",
       "      <td>8.534049</td>\n",
       "      <td>0.176306</td>\n",
       "      <td>2.827601</td>\n",
       "    </tr>\n",
       "    <tr>\n",
       "      <th>min</th>\n",
       "      <td>5.000000</td>\n",
       "      <td>0.005368</td>\n",
       "      <td>1.000000</td>\n",
       "      <td>0.000000</td>\n",
       "      <td>0.000000</td>\n",
       "      <td>1.000000</td>\n",
       "      <td>0.006528</td>\n",
       "      <td>1.000000</td>\n",
       "    </tr>\n",
       "    <tr>\n",
       "      <th>25%</th>\n",
       "      <td>87.414867</td>\n",
       "      <td>0.165603</td>\n",
       "      <td>3.125828</td>\n",
       "      <td>86.750000</td>\n",
       "      <td>1.000000</td>\n",
       "      <td>8.000000</td>\n",
       "      <td>0.190178</td>\n",
       "      <td>3.000000</td>\n",
       "    </tr>\n",
       "    <tr>\n",
       "      <th>50%</th>\n",
       "      <td>153.663352</td>\n",
       "      <td>0.265994</td>\n",
       "      <td>3.770215</td>\n",
       "      <td>210.000000</td>\n",
       "      <td>1.000000</td>\n",
       "      <td>15.000000</td>\n",
       "      <td>0.307430</td>\n",
       "      <td>6.000000</td>\n",
       "    </tr>\n",
       "    <tr>\n",
       "      <th>75%</th>\n",
       "      <td>217.788796</td>\n",
       "      <td>0.391186</td>\n",
       "      <td>4.417711</td>\n",
       "      <td>429.000000</td>\n",
       "      <td>1.000000</td>\n",
       "      <td>22.000000</td>\n",
       "      <td>0.444752</td>\n",
       "      <td>8.000000</td>\n",
       "    </tr>\n",
       "    <tr>\n",
       "      <th>max</th>\n",
       "      <td>535.273149</td>\n",
       "      <td>0.800000</td>\n",
       "      <td>5.000000</td>\n",
       "      <td>2848.000000</td>\n",
       "      <td>1.000000</td>\n",
       "      <td>30.000000</td>\n",
       "      <td>0.900000</td>\n",
       "      <td>10.000000</td>\n",
       "    </tr>\n",
       "  </tbody>\n",
       "</table>\n",
       "</div>"
      ],
      "text/plain": [
       "       Product_Price  Discount_Rate  Product_Rating  Number_of_Reviews  \\\n",
       "count    1900.000000    1900.000000     1900.000000        1900.000000   \n",
       "mean      156.774274       0.286993        3.729987         304.318421   \n",
       "std        93.484558       0.159012        0.885164         310.344539   \n",
       "min         5.000000       0.005368        1.000000           0.000000   \n",
       "25%        87.414867       0.165603        3.125828          86.750000   \n",
       "50%       153.663352       0.265994        3.770215         210.000000   \n",
       "75%       217.788796       0.391186        4.417711         429.000000   \n",
       "max       535.273149       0.800000        5.000000        2848.000000   \n",
       "\n",
       "       Stock_Availability  Days_to_Deliver  Return_Rate  Category_ID  \n",
       "count         1900.000000      1900.000000  1900.000000  1900.000000  \n",
       "mean             0.903158        15.411579     0.328904     5.572105  \n",
       "std              0.295821         8.534049     0.176306     2.827601  \n",
       "min              0.000000         1.000000     0.006528     1.000000  \n",
       "25%              1.000000         8.000000     0.190178     3.000000  \n",
       "50%              1.000000        15.000000     0.307430     6.000000  \n",
       "75%              1.000000        22.000000     0.444752     8.000000  \n",
       "max              1.000000        30.000000     0.900000    10.000000  "
      ]
     },
     "execution_count": 6,
     "metadata": {},
     "output_type": "execute_result"
    }
   ],
   "source": [
    "#Show summary statistics of the dataset\n",
    "print(\"Summary statistics of the dataset:\")\n",
    "df.describe()"
   ]
  },
  {
   "cell_type": "markdown",
   "id": "d1f3a2bd",
   "metadata": {},
   "source": [
    "### Handling missing values\n",
    "The first few steps involve making sure that there are no __missing values__ or __incorrect data types__ before we proceed to the analysis stage. These aforementioned problems are handled as follows:\n",
    "\n",
    " - For Missing Values: Some common techniques to treat this issue are\n",
    "    - Dropping the rows containing the missing values\n",
    "    - Imputing the missing values\n",
    "    - Keep the missing values if they don't affect the analysis\n",
    "\n",
    "    \n",
    " - Incorrect Data Types:\n",
    "    - Clean certain values\n",
    "    - Clean and convert an entire column"
   ]
  },
  {
   "cell_type": "markdown",
   "id": "f0c7f032",
   "metadata": {},
   "source": [
    "#### Checking missing values"
   ]
  },
  {
   "cell_type": "code",
   "execution_count": 7,
   "id": "abb5b9c6",
   "metadata": {},
   "outputs": [
    {
     "name": "stdout",
     "output_type": "stream",
     "text": [
      "Null values in the dataset:\n"
     ]
    },
    {
     "data": {
      "text/html": [
       "<div>\n",
       "<style scoped>\n",
       "    .dataframe tbody tr th:only-of-type {\n",
       "        vertical-align: middle;\n",
       "    }\n",
       "\n",
       "    .dataframe tbody tr th {\n",
       "        vertical-align: top;\n",
       "    }\n",
       "\n",
       "    .dataframe thead th {\n",
       "        text-align: right;\n",
       "    }\n",
       "</style>\n",
       "<table border=\"1\" class=\"dataframe\">\n",
       "  <thead>\n",
       "    <tr style=\"text-align: right;\">\n",
       "      <th></th>\n",
       "      <th>Product_Price</th>\n",
       "      <th>Discount_Rate</th>\n",
       "      <th>Product_Rating</th>\n",
       "      <th>Number_of_Reviews</th>\n",
       "      <th>Stock_Availability</th>\n",
       "      <th>Days_to_Deliver</th>\n",
       "      <th>Return_Rate</th>\n",
       "      <th>Category_ID</th>\n",
       "    </tr>\n",
       "  </thead>\n",
       "  <tbody>\n",
       "    <tr>\n",
       "      <th>0</th>\n",
       "      <td>False</td>\n",
       "      <td>False</td>\n",
       "      <td>False</td>\n",
       "      <td>False</td>\n",
       "      <td>False</td>\n",
       "      <td>False</td>\n",
       "      <td>False</td>\n",
       "      <td>False</td>\n",
       "    </tr>\n",
       "    <tr>\n",
       "      <th>1</th>\n",
       "      <td>False</td>\n",
       "      <td>False</td>\n",
       "      <td>False</td>\n",
       "      <td>False</td>\n",
       "      <td>False</td>\n",
       "      <td>False</td>\n",
       "      <td>False</td>\n",
       "      <td>False</td>\n",
       "    </tr>\n",
       "    <tr>\n",
       "      <th>2</th>\n",
       "      <td>False</td>\n",
       "      <td>False</td>\n",
       "      <td>False</td>\n",
       "      <td>False</td>\n",
       "      <td>False</td>\n",
       "      <td>False</td>\n",
       "      <td>False</td>\n",
       "      <td>False</td>\n",
       "    </tr>\n",
       "    <tr>\n",
       "      <th>3</th>\n",
       "      <td>False</td>\n",
       "      <td>False</td>\n",
       "      <td>False</td>\n",
       "      <td>False</td>\n",
       "      <td>False</td>\n",
       "      <td>False</td>\n",
       "      <td>True</td>\n",
       "      <td>False</td>\n",
       "    </tr>\n",
       "    <tr>\n",
       "      <th>4</th>\n",
       "      <td>False</td>\n",
       "      <td>False</td>\n",
       "      <td>False</td>\n",
       "      <td>False</td>\n",
       "      <td>False</td>\n",
       "      <td>False</td>\n",
       "      <td>False</td>\n",
       "      <td>False</td>\n",
       "    </tr>\n",
       "    <tr>\n",
       "      <th>...</th>\n",
       "      <td>...</td>\n",
       "      <td>...</td>\n",
       "      <td>...</td>\n",
       "      <td>...</td>\n",
       "      <td>...</td>\n",
       "      <td>...</td>\n",
       "      <td>...</td>\n",
       "      <td>...</td>\n",
       "    </tr>\n",
       "    <tr>\n",
       "      <th>1995</th>\n",
       "      <td>False</td>\n",
       "      <td>False</td>\n",
       "      <td>False</td>\n",
       "      <td>False</td>\n",
       "      <td>False</td>\n",
       "      <td>False</td>\n",
       "      <td>True</td>\n",
       "      <td>False</td>\n",
       "    </tr>\n",
       "    <tr>\n",
       "      <th>1996</th>\n",
       "      <td>True</td>\n",
       "      <td>False</td>\n",
       "      <td>False</td>\n",
       "      <td>False</td>\n",
       "      <td>True</td>\n",
       "      <td>False</td>\n",
       "      <td>False</td>\n",
       "      <td>False</td>\n",
       "    </tr>\n",
       "    <tr>\n",
       "      <th>1997</th>\n",
       "      <td>False</td>\n",
       "      <td>False</td>\n",
       "      <td>False</td>\n",
       "      <td>False</td>\n",
       "      <td>False</td>\n",
       "      <td>False</td>\n",
       "      <td>False</td>\n",
       "      <td>False</td>\n",
       "    </tr>\n",
       "    <tr>\n",
       "      <th>1998</th>\n",
       "      <td>False</td>\n",
       "      <td>False</td>\n",
       "      <td>False</td>\n",
       "      <td>False</td>\n",
       "      <td>False</td>\n",
       "      <td>False</td>\n",
       "      <td>False</td>\n",
       "      <td>False</td>\n",
       "    </tr>\n",
       "    <tr>\n",
       "      <th>1999</th>\n",
       "      <td>False</td>\n",
       "      <td>False</td>\n",
       "      <td>False</td>\n",
       "      <td>False</td>\n",
       "      <td>False</td>\n",
       "      <td>False</td>\n",
       "      <td>False</td>\n",
       "      <td>False</td>\n",
       "    </tr>\n",
       "  </tbody>\n",
       "</table>\n",
       "<p>2000 rows × 8 columns</p>\n",
       "</div>"
      ],
      "text/plain": [
       "      Product_Price  Discount_Rate  Product_Rating  Number_of_Reviews  \\\n",
       "0             False          False           False              False   \n",
       "1             False          False           False              False   \n",
       "2             False          False           False              False   \n",
       "3             False          False           False              False   \n",
       "4             False          False           False              False   \n",
       "...             ...            ...             ...                ...   \n",
       "1995          False          False           False              False   \n",
       "1996           True          False           False              False   \n",
       "1997          False          False           False              False   \n",
       "1998          False          False           False              False   \n",
       "1999          False          False           False              False   \n",
       "\n",
       "      Stock_Availability  Days_to_Deliver  Return_Rate  Category_ID  \n",
       "0                  False            False        False        False  \n",
       "1                  False            False        False        False  \n",
       "2                  False            False        False        False  \n",
       "3                  False            False         True        False  \n",
       "4                  False            False        False        False  \n",
       "...                  ...              ...          ...          ...  \n",
       "1995               False            False         True        False  \n",
       "1996                True            False        False        False  \n",
       "1997               False            False        False        False  \n",
       "1998               False            False        False        False  \n",
       "1999               False            False        False        False  \n",
       "\n",
       "[2000 rows x 8 columns]"
      ]
     },
     "execution_count": 7,
     "metadata": {},
     "output_type": "execute_result"
    }
   ],
   "source": [
    "#check null values\n",
    "print(\"Null values in the dataset:\")\n",
    "df.isnull()"
   ]
  },
  {
   "cell_type": "code",
   "execution_count": 8,
   "id": "19394c2c",
   "metadata": {},
   "outputs": [
    {
     "name": "stdout",
     "output_type": "stream",
     "text": [
      "Number of missing values in each column:\n"
     ]
    },
    {
     "data": {
      "text/plain": [
       "Product_Price         100\n",
       "Discount_Rate         100\n",
       "Product_Rating        100\n",
       "Number_of_Reviews     100\n",
       "Stock_Availability    100\n",
       "Days_to_Deliver       100\n",
       "Return_Rate           100\n",
       "Category_ID           100\n",
       "dtype: int64"
      ]
     },
     "execution_count": 8,
     "metadata": {},
     "output_type": "execute_result"
    }
   ],
   "source": [
    "#number of missing values in each column\n",
    "print(\"Number of missing values in each column:\")\n",
    "df.isnull().sum()"
   ]
  },
  {
   "cell_type": "code",
   "execution_count": 9,
   "id": "52382648",
   "metadata": {},
   "outputs": [
    {
     "name": "stdout",
     "output_type": "stream",
     "text": [
      "Number of rows having all missing values: 0\n"
     ]
    }
   ],
   "source": [
    "#number of rows having all missing Values\n",
    "print(\"Number of rows having all missing values:\",df.isnull().all(axis=1).sum())"
   ]
  },
  {
   "cell_type": "code",
   "execution_count": 10,
   "id": "876cf20b",
   "metadata": {},
   "outputs": [
    {
     "name": "stdout",
     "output_type": "stream",
     "text": [
      "Number of Columns having all missing values: 0\n"
     ]
    }
   ],
   "source": [
    "#number of Columns having all missing Values\n",
    "print(\"Number of Columns having all missing values:\",df.isnull().all(axis=0).sum())"
   ]
  },
  {
   "cell_type": "code",
   "execution_count": 11,
   "id": "5091dddc",
   "metadata": {},
   "outputs": [
    {
     "data": {
      "text/plain": [
       "0       0\n",
       "1       0\n",
       "2       0\n",
       "3       1\n",
       "4       0\n",
       "       ..\n",
       "1995    1\n",
       "1996    2\n",
       "1997    0\n",
       "1998    0\n",
       "1999    0\n",
       "Length: 2000, dtype: int64"
      ]
     },
     "execution_count": 11,
     "metadata": {},
     "output_type": "execute_result"
    }
   ],
   "source": [
    "#count missing values in each rows\n",
    "df.isnull().sum(axis=1)"
   ]
  },
  {
   "cell_type": "code",
   "execution_count": 12,
   "id": "0cc9e34a",
   "metadata": {},
   "outputs": [
    {
     "name": "stdout",
     "output_type": "stream",
     "text": [
      "Number of rows having more than 3 missing values: 0\n",
      "Number of rows having 3 missing values: 10\n",
      "Number of rows having 2 missing values: 94\n",
      "Number of rows having 1 missing values: 582\n",
      "Number of rows having NO missing values: 1314\n"
     ]
    }
   ],
   "source": [
    "#count the number of rows having > 3 missing values\n",
    "print(\"Number of rows having more than 3 missing values:\",df.isnull().sum(axis=1).gt(3).sum())\n",
    "#count the number of rows having 3 missing values\n",
    "print(\"Number of rows having 3 missing values:\",df.isnull().sum(axis=1).eq(3).sum())\n",
    "#count the number of rows having 2 missing values\n",
    "print(\"Number of rows having 2 missing values:\",df.isnull().sum(axis=1).eq(2).sum())\n",
    "#count the number of rows having 1 missing values\n",
    "print(\"Number of rows having 1 missing values:\",df.isnull().sum(axis=1).eq(1).sum())\n",
    "#count the number of rows having 0 missing values\n",
    "print(\"Number of rows having NO missing values:\",df.isnull().sum(axis=1).eq(0).sum())"
   ]
  },
  {
   "cell_type": "code",
   "execution_count": 13,
   "id": "47628418",
   "metadata": {},
   "outputs": [
    {
     "data": {
      "text/plain": [
       "Product_Price         100\n",
       "Discount_Rate         100\n",
       "Product_Rating        100\n",
       "Number_of_Reviews     100\n",
       "Stock_Availability    100\n",
       "Days_to_Deliver       100\n",
       "Return_Rate           100\n",
       "Category_ID           100\n",
       "dtype: int64"
      ]
     },
     "execution_count": 13,
     "metadata": {},
     "output_type": "execute_result"
    }
   ],
   "source": [
    "#count missing values in each column\n",
    "df.isnull().sum(axis=0)"
   ]
  },
  {
   "cell_type": "code",
   "execution_count": 14,
   "id": "bab709f5",
   "metadata": {},
   "outputs": [
    {
     "name": "stdout",
     "output_type": "stream",
     "text": [
      "Datatypes of all the columns:\n"
     ]
    },
    {
     "data": {
      "text/plain": [
       "Product_Price         float64\n",
       "Discount_Rate         float64\n",
       "Product_Rating        float64\n",
       "Number_of_Reviews     float64\n",
       "Stock_Availability    float64\n",
       "Days_to_Deliver       float64\n",
       "Return_Rate           float64\n",
       "Category_ID           float64\n",
       "dtype: object"
      ]
     },
     "execution_count": 14,
     "metadata": {},
     "output_type": "execute_result"
    }
   ],
   "source": [
    "#Check the datatypes of all the columns of the dataframe\n",
    "print(\"Datatypes of all the columns:\")\n",
    "df.dtypes"
   ]
  },
  {
   "cell_type": "markdown",
   "id": "4be533de",
   "metadata": {},
   "source": [
    "Here All are correct data type as expected."
   ]
  },
  {
   "cell_type": "markdown",
   "id": "47ccc0ec",
   "metadata": {},
   "source": [
    "#### Missing Value Treatment"
   ]
  },
  {
   "cell_type": "code",
   "execution_count": 15,
   "id": "fe26437e",
   "metadata": {},
   "outputs": [
    {
     "name": "stdout",
     "output_type": "stream",
     "text": [
      "Missing percentage in each column:\n"
     ]
    },
    {
     "data": {
      "text/plain": [
       "Product_Price         5.0\n",
       "Discount_Rate         5.0\n",
       "Product_Rating        5.0\n",
       "Number_of_Reviews     5.0\n",
       "Stock_Availability    5.0\n",
       "Days_to_Deliver       5.0\n",
       "Return_Rate           5.0\n",
       "Category_ID           5.0\n",
       "dtype: float64"
      ]
     },
     "execution_count": 15,
     "metadata": {},
     "output_type": "execute_result"
    }
   ],
   "source": [
    "#missing percetage\n",
    "print(\"Missing percentage in each column:\")\n",
    "df.isnull().sum()/len(df.index)*100"
   ]
  },
  {
   "cell_type": "markdown",
   "id": "4a007d49",
   "metadata": {},
   "source": [
    "No any column is having more than 30% missing values\n",
    "So, we should to impute the missing values rather than droping the missing values."
   ]
  },
  {
   "cell_type": "markdown",
   "id": "408197b0",
   "metadata": {},
   "source": [
    "##### Imputing Missing Values\n",
    "- Using mean and median and mode\n",
    "    - Mean\tFor numerical data that’s normally distributed (not skewed).\n",
    "    - Median\tFor skewed numerical data or when there are outliers.\n",
    "    - Mode\tFor categorical or binary data."
   ]
  },
  {
   "cell_type": "code",
   "execution_count": 16,
   "id": "194c11e9",
   "metadata": {},
   "outputs": [],
   "source": [
    "#impute Product_Price with median, because Prices are often skewed (e.g., many lower-priced items and fewer high-priced ones).\n",
    "df['Product_Price'].fillna(df['Product_Price'].median(), inplace=True)\n",
    "#impute Discount_Rate with median, because Discounts are often normally distributed.\n",
    "df['Discount_Rate'].fillna(df['Discount_Rate'].median(), inplace=True)\n",
    "#impute Product_Rating with median, because Ratings may be skewed (e.g., more 4s and 5s due to positive bias in reviews).\n",
    "df['Product_Rating'].fillna(df['Product_Rating'].median(), inplace=True)\n",
    "#impute Number_of_Reviews with median, because It's a count and the distribution is likely highly right-skewed (few products have many reviews). \n",
    "df['Number_of_Reviews'].fillna(df['Number_of_Reviews'].median(), inplace=True)\n",
    "#impute Stock_Availability with mode, because It's a categorical variable and mode is the most common value.\n",
    "df['Stock_Availability'].fillna(df['Stock_Availability'].mode()[0], inplace=True)\n",
    "#impute Days_to_Deliver with median, because Integer field, usually centered but might have some skew. Since it's a small-range number.\n",
    "df['Days_to_Deliver'].fillna(df['Days_to_Deliver'].median(), inplace=True)\n",
    "#impute Return_Rate with median, as most products may have low return rates, with few having high rates.\n",
    "df['Return_Rate'].fillna(df['Return_Rate'].median(), inplace=True)"
   ]
  },
  {
   "cell_type": "code",
   "execution_count": 17,
   "id": "729a190c",
   "metadata": {},
   "outputs": [
    {
     "name": "stdout",
     "output_type": "stream",
     "text": [
      "Null values in the dataset after imputation:\n"
     ]
    },
    {
     "data": {
      "text/plain": [
       "Product_Price           0\n",
       "Discount_Rate           0\n",
       "Product_Rating          0\n",
       "Number_of_Reviews       0\n",
       "Stock_Availability      0\n",
       "Days_to_Deliver         0\n",
       "Return_Rate             0\n",
       "Category_ID           100\n",
       "dtype: int64"
      ]
     },
     "execution_count": 17,
     "metadata": {},
     "output_type": "execute_result"
    }
   ],
   "source": [
    "#check null values\n",
    "print(\"Null values in the dataset after imputation:\")\n",
    "df.isnull().sum()"
   ]
  },
  {
   "cell_type": "markdown",
   "id": "bb770c92",
   "metadata": {},
   "source": [
    "- Using Product Characteristics for Imputation of Category_ID.\n",
    "If Product_Price, Discount_Rate, or Product_Rating correlate strongly with Category_ID, use these to predict missing values. Example: Use group-based imputation, filling missing values based on similar Product_Rating."
   ]
  },
  {
   "cell_type": "code",
   "execution_count": 18,
   "id": "58e4b876",
   "metadata": {},
   "outputs": [],
   "source": [
    "#imputing Category_ID based on similar product ratings\n",
    "df['Category_ID'].fillna(df.groupby('Product_Rating')['Category_ID'].transform('median'), inplace=True)"
   ]
  },
  {
   "cell_type": "code",
   "execution_count": 19,
   "id": "9d592b43",
   "metadata": {},
   "outputs": [
    {
     "name": "stdout",
     "output_type": "stream",
     "text": [
      "Null values in the dataset after imputation of Category_ID:\n"
     ]
    },
    {
     "data": {
      "text/plain": [
       "Product_Price          0\n",
       "Discount_Rate          0\n",
       "Product_Rating         0\n",
       "Number_of_Reviews      0\n",
       "Stock_Availability     0\n",
       "Days_to_Deliver        0\n",
       "Return_Rate            0\n",
       "Category_ID           88\n",
       "dtype: int64"
      ]
     },
     "execution_count": 19,
     "metadata": {},
     "output_type": "execute_result"
    }
   ],
   "source": [
    "#recheck null values after imputation of Category_ID\n",
    "print(\"Null values in the dataset after imputation of Category_ID:\")\n",
    "df.isnull().sum()"
   ]
  },
  {
   "cell_type": "code",
   "execution_count": 20,
   "id": "a6048fc9",
   "metadata": {},
   "outputs": [],
   "source": [
    "#imputing Category_ID based on similar Return_Rate\n",
    "df['Category_ID'].fillna(df.groupby('Return_Rate')['Category_ID'].transform('median'), inplace=True)"
   ]
  },
  {
   "cell_type": "code",
   "execution_count": 21,
   "id": "136973cc",
   "metadata": {},
   "outputs": [
    {
     "name": "stdout",
     "output_type": "stream",
     "text": [
      "Null values in the dataset after imputation of Category_ID:\n"
     ]
    },
    {
     "data": {
      "text/plain": [
       "Product_Price          0\n",
       "Discount_Rate          0\n",
       "Product_Rating         0\n",
       "Number_of_Reviews      0\n",
       "Stock_Availability     0\n",
       "Days_to_Deliver        0\n",
       "Return_Rate            0\n",
       "Category_ID           85\n",
       "dtype: int64"
      ]
     },
     "execution_count": 21,
     "metadata": {},
     "output_type": "execute_result"
    }
   ],
   "source": [
    "#recheck null values after imputation of Category_ID\n",
    "print(\"Null values in the dataset after imputation of Category_ID:\")\n",
    "df.isnull().sum()"
   ]
  },
  {
   "cell_type": "code",
   "execution_count": 22,
   "id": "1c565770",
   "metadata": {},
   "outputs": [],
   "source": [
    "#imputing Category_ID based on similar Stock_Availability\n",
    "df['Category_ID'].fillna(df.groupby('Stock_Availability')['Category_ID'].transform('median'), inplace=True)"
   ]
  },
  {
   "cell_type": "code",
   "execution_count": 23,
   "id": "06e88e4f",
   "metadata": {},
   "outputs": [
    {
     "name": "stdout",
     "output_type": "stream",
     "text": [
      "Null values in the dataset after imputation of Category_ID:\n"
     ]
    },
    {
     "data": {
      "text/plain": [
       "Product_Price         0\n",
       "Discount_Rate         0\n",
       "Product_Rating        0\n",
       "Number_of_Reviews     0\n",
       "Stock_Availability    0\n",
       "Days_to_Deliver       0\n",
       "Return_Rate           0\n",
       "Category_ID           0\n",
       "dtype: int64"
      ]
     },
     "execution_count": 23,
     "metadata": {},
     "output_type": "execute_result"
    }
   ],
   "source": [
    "#recheck null values after imputation of Category_ID\n",
    "print(\"Null values in the dataset after imputation of Category_ID:\")\n",
    "df.isnull().sum()"
   ]
  },
  {
   "cell_type": "markdown",
   "id": "fe00063e",
   "metadata": {},
   "source": [
    "Now all missing values has handled and the data set is ready for Analysis."
   ]
  }
 ],
 "metadata": {
  "kernelspec": {
   "display_name": "VirtualEnvironment",
   "language": "python",
   "name": "python3"
  },
  "language_info": {
   "codemirror_mode": {
    "name": "ipython",
    "version": 3
   },
   "file_extension": ".py",
   "mimetype": "text/x-python",
   "name": "python",
   "nbconvert_exporter": "python",
   "pygments_lexer": "ipython3",
   "version": "3.13.3"
  }
 },
 "nbformat": 4,
 "nbformat_minor": 5
}
